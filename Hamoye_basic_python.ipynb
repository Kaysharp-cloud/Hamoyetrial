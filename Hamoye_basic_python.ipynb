{
 "cells": [
  {
   "cell_type": "code",
   "execution_count": 11,
   "id": "9d1fb8e0",
   "metadata": {},
   "outputs": [
    {
     "name": "stdout",
     "output_type": "stream",
     "text": [
      "17\n",
      "The Lord is great\n",
      "the lord is great\n",
      "THE LORD IS GREAT\n",
      "The Lord of hosts is great\n",
      "I have a testimony that The Lord is great and I have to test this [1, 1, 2, 3, 3, 3, 4, 4, 4, 4, 5, 5, 5, 5, 6, 6, 6, 6, 7, 8, 9, 23, 118]\n",
      "[1, 1, 2, 3, 3, 3, 4, 4, 4, 4, 5, 5, 5, 5, 6, 6, 6, 6, 7, 8, 9, 23, 118]\n",
      "6\n",
      "118\n"
     ]
    }
   ],
   "source": [
    "word = \"The Lord is great\"\n",
    "first_list=[1,23,4,5,6,7,8,9,3,4,5,6,4,3,5,6,6]\n",
    "first_tupple =(1,2,3,4,5,3,4,5,4,4)\n",
    "first_list.append(118)\n",
    "first_list.extend([1,2,3,4,5])\n",
    "first_list.sort()\n",
    "adex= max(first_list)\n",
    "print(len(word))\n",
    "print(word)\n",
    "print(word.lower())\n",
    "print(word.upper())\n",
    "print(word.replace(\"Lord\",\"Lord of hosts\"))\n",
    "print(\"I have a testimony that {} and I have to test this {}\".format(word,first_list))\n",
    "print(first_list)\n",
    "print(first_list.index(4))\n",
    "print(adex)"
   ]
  },
  {
   "cell_type": "code",
   "execution_count": 17,
   "id": "d31ca1aa",
   "metadata": {},
   "outputs": [
    {
     "name": "stdout",
     "output_type": "stream",
     "text": [
      "2\n"
     ]
    }
   ],
   "source": [
    "def count_num(lista,num):\n",
    "    count=0\n",
    "    for i in lista :\n",
    "        if i==num :\n",
    "            count = count+1\n",
    "    return count\n",
    "print(count_num(first_list,1))"
   ]
  },
  {
   "cell_type": "code",
   "execution_count": 22,
   "id": "c2c5b493",
   "metadata": {},
   "outputs": [
    {
     "name": "stdout",
     "output_type": "stream",
     "text": [
      "{1, 2, 3, 4, 5, 6, 7}\n",
      "{1, 2, 3, 4, 5, 6, 7}\n",
      "{1, 2, 4}\n"
     ]
    }
   ],
   "source": [
    "set_1={1,2,3,4}\n",
    "set_2={1,2,4,5,6,7}\n",
    "set_3={1,2,3}\n",
    "print(set_1.union(set_2))\n",
    "print(set_1 | set_2)\n",
    "print(set_1.intersection(set_2))"
   ]
  },
  {
   "cell_type": "code",
   "execution_count": 20,
   "id": "5d21f848",
   "metadata": {},
   "outputs": [
    {
     "name": "stdout",
     "output_type": "stream",
     "text": [
      "False\n"
     ]
    }
   ],
   "source": [
    "print(set_1.isdisjoint(set_2))"
   ]
  },
  {
   "cell_type": "code",
   "execution_count": 23,
   "id": "66ccac77",
   "metadata": {},
   "outputs": [
    {
     "name": "stdout",
     "output_type": "stream",
     "text": [
      "True\n"
     ]
    }
   ],
   "source": [
    "print(set_3.issubset(set_1))"
   ]
  },
  {
   "cell_type": "code",
   "execution_count": 25,
   "id": "d238481e",
   "metadata": {},
   "outputs": [
    {
     "name": "stdout",
     "output_type": "stream",
     "text": [
      "{'Name': 'Adex Kaysharp', 'School': 'University of Hull', 'Course': 'Mechanical Engineering', 'Age': 20}\n",
      "Adex Kaysharp\n"
     ]
    }
   ],
   "source": [
    "keys_1=[\"Name\", \"School\", \"Course\", \"Age\"]\n",
    "values_1=[\"Adex Kaysharp\", \"University of Hull\", \"Mechanical Engineering\", 20]\n",
    "dictionary_1=dict(zip(keys_1,values_1))\n",
    "print(dictionary_1)\n",
    "print(dictionary_1['Name'])"
   ]
  },
  {
   "cell_type": "code",
   "execution_count": 29,
   "id": "b52cbf95",
   "metadata": {},
   "outputs": [
    {
     "name": "stdout",
     "output_type": "stream",
     "text": [
      "12\n",
      "11\n",
      "10\n",
      "9\n",
      "8\n",
      "7\n",
      "6\n",
      "5\n",
      "4\n",
      "3\n",
      "2\n",
      "1\n",
      "completed\n"
     ]
    }
   ],
   "source": [
    "# while loop practice\n",
    "x=12\n",
    "while x>0 :\n",
    "    print(x)\n",
    "    x=x-1\n",
    "print(\"completed\")"
   ]
  },
  {
   "cell_type": "code",
   "execution_count": 37,
   "id": "d478558c",
   "metadata": {},
   "outputs": [
    {
     "name": "stdout",
     "output_type": "stream",
     "text": [
      "1\n",
      "2\n",
      "3\n",
      "5\n",
      "6\n",
      "7\n",
      "8\n",
      "9\n",
      "10\n",
      "11\n"
     ]
    }
   ],
   "source": [
    "x1 = 0\n",
    "n2 = 10\n",
    "while x1<=n2:\n",
    "    x1 +=1\n",
    "    \n",
    "    if x1==4:\n",
    "         continue\n",
    "    print(x1)\n",
    "        "
   ]
  },
  {
   "cell_type": "code",
   "execution_count": 33,
   "id": "d0a9df73",
   "metadata": {},
   "outputs": [
    {
     "name": "stdout",
     "output_type": "stream",
     "text": [
      "4\n",
      "3\n",
      "1\n",
      "0\n",
      "Loop ended\n"
     ]
    }
   ],
   "source": [
    "n3 = 5\n",
    "while n3 > 0 :\n",
    "    n3-=1\n",
    "    if n3==2:\n",
    "        continue\n",
    "    print(n3)\n",
    "print(\"Loop ended\")"
   ]
  },
  {
   "cell_type": "code",
   "execution_count": 38,
   "id": "d8928b5a",
   "metadata": {},
   "outputs": [
    {
     "name": "stdout",
     "output_type": "stream",
     "text": [
      "[1, 2, 3, 4, 5, 6]\n"
     ]
    }
   ],
   "source": [
    "def prac_func(*args):\n",
    "    list_func=list(args)\n",
    "    print(list_func)\n",
    "prac_func(1,2,3,4,5,6)"
   ]
  },
  {
   "cell_type": "code",
   "execution_count": 39,
   "id": "381fc887",
   "metadata": {},
   "outputs": [
    {
     "name": "stdout",
     "output_type": "stream",
     "text": [
      "Help on function hello in module __main__:\n",
      "\n",
      "hello()\n",
      "    This function prints\n",
      "    \n",
      "    message on the screen\n",
      "\n"
     ]
    }
   ],
   "source": [
    "def hello():\n",
    "\n",
    "    \"\"\"This function prints\n",
    "\n",
    "       message on the screen\"\"\"  \n",
    "\n",
    "    print('Hello, World!')\n",
    "    \n",
    "help (hello)"
   ]
  },
  {
   "cell_type": "code",
   "execution_count": null,
   "id": "3334f230",
   "metadata": {},
   "outputs": [],
   "source": []
  }
 ],
 "metadata": {
  "kernelspec": {
   "display_name": "Python 3 (ipykernel)",
   "language": "python",
   "name": "python3"
  },
  "language_info": {
   "codemirror_mode": {
    "name": "ipython",
    "version": 3
   },
   "file_extension": ".py",
   "mimetype": "text/x-python",
   "name": "python",
   "nbconvert_exporter": "python",
   "pygments_lexer": "ipython3",
   "version": "3.10.9"
  }
 },
 "nbformat": 4,
 "nbformat_minor": 5
}
